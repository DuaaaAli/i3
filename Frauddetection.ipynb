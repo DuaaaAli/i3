{
 "cells": [
  {
   "cell_type": "code",
   "execution_count": 1,
   "id": "aa571590",
   "metadata": {
    "execution": {
     "iopub.execute_input": "2023-10-12T13:54:13.619250Z",
     "iopub.status.busy": "2023-10-12T13:54:13.618683Z",
     "iopub.status.idle": "2023-10-12T13:54:15.957360Z",
     "shell.execute_reply": "2023-10-12T13:54:15.956461Z"
    },
    "id": "7HPpp_70vo9L",
    "papermill": {
     "duration": 2.350174,
     "end_time": "2023-10-12T13:54:15.960268",
     "exception": false,
     "start_time": "2023-10-12T13:54:13.610094",
     "status": "completed"
    },
    "tags": []
   },
   "outputs": [],
   "source": [
    "'''Build a model to detect fraudulent credit card transactions. Use a\n",
    "dataset containing information about credit card transactions, and\n",
    "experiment with algorithm like Logistic Regression to classify transactions as fraudulent or legitimate.'''\n",
    "\n",
    "\n",
    "# Import necessary libraries\n",
    "import numpy as np\n",
    "import pandas as pd\n",
    "import matplotlib.pyplot as plt\n",
    "import seaborn as sns\n",
    "from sklearn.model_selection import train_test_split\n",
    "from sklearn.linear_model import LogisticRegression\n",
    "from sklearn.metrics import accuracy_score\n",
    "import pandas as pd\n"
   ]
  },
  {
   "cell_type": "code",
   "execution_count": 2,
   "id": "0a9744d7",
   "metadata": {
    "execution": {
     "iopub.execute_input": "2023-10-12T13:54:15.981279Z",
     "iopub.status.busy": "2023-10-12T13:54:15.980739Z",
     "iopub.status.idle": "2023-10-12T13:54:20.541540Z",
     "shell.execute_reply": "2023-10-12T13:54:20.539907Z"
    },
    "id": "My2fO792wPUR",
    "papermill": {
     "duration": 4.573497,
     "end_time": "2023-10-12T13:54:20.544946",
     "exception": false,
     "start_time": "2023-10-12T13:54:15.971449",
     "status": "completed"
    },
    "tags": []
   },
   "outputs": [],
   "source": [
    "# Load the dataset\n",
    "data = pd.read_csv(\"/kaggle/input/creditcardfraud/creditcard.csv\",encoding=\"utf-8\")\n"
   ]
  },
  {
   "cell_type": "markdown",
   "id": "a518e1d1",
   "metadata": {
    "papermill": {
     "duration": 0.00847,
     "end_time": "2023-10-12T13:54:20.561904",
     "exception": false,
     "start_time": "2023-10-12T13:54:20.553434",
     "status": "completed"
    },
    "tags": []
   },
   "source": [
    "### EDA "
   ]
  },
  {
   "cell_type": "code",
   "execution_count": 3,
   "id": "2a4982bf",
   "metadata": {
    "execution": {
     "iopub.execute_input": "2023-10-12T13:54:20.575810Z",
     "iopub.status.busy": "2023-10-12T13:54:20.575455Z",
     "iopub.status.idle": "2023-10-12T13:54:20.628064Z",
     "shell.execute_reply": "2023-10-12T13:54:20.626722Z"
    },
    "id": "nYPLxcV5wmiG",
    "outputId": "bc710ede-3eed-4435-83f2-447037772296",
    "papermill": {
     "duration": 0.061977,
     "end_time": "2023-10-12T13:54:20.630422",
     "exception": false,
     "start_time": "2023-10-12T13:54:20.568445",
     "status": "completed"
    },
    "tags": []
   },
   "outputs": [
    {
     "name": "stdout",
     "output_type": "stream",
     "text": [
      "<class 'pandas.core.frame.DataFrame'>\n",
      "RangeIndex: 284807 entries, 0 to 284806\n",
      "Data columns (total 31 columns):\n",
      " #   Column  Non-Null Count   Dtype  \n",
      "---  ------  --------------   -----  \n",
      " 0   Time    284807 non-null  float64\n",
      " 1   V1      284807 non-null  float64\n",
      " 2   V2      284807 non-null  float64\n",
      " 3   V3      284807 non-null  float64\n",
      " 4   V4      284807 non-null  float64\n",
      " 5   V5      284807 non-null  float64\n",
      " 6   V6      284807 non-null  float64\n",
      " 7   V7      284807 non-null  float64\n",
      " 8   V8      284807 non-null  float64\n",
      " 9   V9      284807 non-null  float64\n",
      " 10  V10     284807 non-null  float64\n",
      " 11  V11     284807 non-null  float64\n",
      " 12  V12     284807 non-null  float64\n",
      " 13  V13     284807 non-null  float64\n",
      " 14  V14     284807 non-null  float64\n",
      " 15  V15     284807 non-null  float64\n",
      " 16  V16     284807 non-null  float64\n",
      " 17  V17     284807 non-null  float64\n",
      " 18  V18     284807 non-null  float64\n",
      " 19  V19     284807 non-null  float64\n",
      " 20  V20     284807 non-null  float64\n",
      " 21  V21     284807 non-null  float64\n",
      " 22  V22     284807 non-null  float64\n",
      " 23  V23     284807 non-null  float64\n",
      " 24  V24     284807 non-null  float64\n",
      " 25  V25     284807 non-null  float64\n",
      " 26  V26     284807 non-null  float64\n",
      " 27  V27     284807 non-null  float64\n",
      " 28  V28     284807 non-null  float64\n",
      " 29  Amount  284807 non-null  float64\n",
      " 30  Class   284807 non-null  int64  \n",
      "dtypes: float64(30), int64(1)\n",
      "memory usage: 67.4 MB\n",
      "None\n"
     ]
    }
   ],
   "source": [
    "# Display basic dataset information\n",
    "print(data.info())"
   ]
  },
  {
   "cell_type": "code",
   "execution_count": 4,
   "id": "69e268e6",
   "metadata": {
    "execution": {
     "iopub.execute_input": "2023-10-12T13:54:20.643641Z",
     "iopub.status.busy": "2023-10-12T13:54:20.643324Z",
     "iopub.status.idle": "2023-10-12T13:54:20.663258Z",
     "shell.execute_reply": "2023-10-12T13:54:20.662010Z"
    },
    "id": "1JC_Hvp72SYg",
    "outputId": "f8a6d19c-faa9-41d8-f25b-84c0c2bff6fa",
    "papermill": {
     "duration": 0.029034,
     "end_time": "2023-10-12T13:54:20.665281",
     "exception": false,
     "start_time": "2023-10-12T13:54:20.636247",
     "status": "completed"
    },
    "tags": []
   },
   "outputs": [
    {
     "name": "stdout",
     "output_type": "stream",
     "text": [
      "   Time        V1        V2        V3        V4        V5        V6        V7  \\\n",
      "0   0.0 -1.359807 -0.072781  2.536347  1.378155 -0.338321  0.462388  0.239599   \n",
      "1   0.0  1.191857  0.266151  0.166480  0.448154  0.060018 -0.082361 -0.078803   \n",
      "2   1.0 -1.358354 -1.340163  1.773209  0.379780 -0.503198  1.800499  0.791461   \n",
      "3   1.0 -0.966272 -0.185226  1.792993 -0.863291 -0.010309  1.247203  0.237609   \n",
      "4   2.0 -1.158233  0.877737  1.548718  0.403034 -0.407193  0.095921  0.592941   \n",
      "5   2.0 -0.425966  0.960523  1.141109 -0.168252  0.420987 -0.029728  0.476201   \n",
      "6   4.0  1.229658  0.141004  0.045371  1.202613  0.191881  0.272708 -0.005159   \n",
      "7   7.0 -0.644269  1.417964  1.074380 -0.492199  0.948934  0.428118  1.120631   \n",
      "8   7.0 -0.894286  0.286157 -0.113192 -0.271526  2.669599  3.721818  0.370145   \n",
      "9   9.0 -0.338262  1.119593  1.044367 -0.222187  0.499361 -0.246761  0.651583   \n",
      "\n",
      "         V8        V9  ...       V21       V22       V23       V24       V25  \\\n",
      "0  0.098698  0.363787  ... -0.018307  0.277838 -0.110474  0.066928  0.128539   \n",
      "1  0.085102 -0.255425  ... -0.225775 -0.638672  0.101288 -0.339846  0.167170   \n",
      "2  0.247676 -1.514654  ...  0.247998  0.771679  0.909412 -0.689281 -0.327642   \n",
      "3  0.377436 -1.387024  ... -0.108300  0.005274 -0.190321 -1.175575  0.647376   \n",
      "4 -0.270533  0.817739  ... -0.009431  0.798278 -0.137458  0.141267 -0.206010   \n",
      "5  0.260314 -0.568671  ... -0.208254 -0.559825 -0.026398 -0.371427 -0.232794   \n",
      "6  0.081213  0.464960  ... -0.167716 -0.270710 -0.154104 -0.780055  0.750137   \n",
      "7 -3.807864  0.615375  ...  1.943465 -1.015455  0.057504 -0.649709 -0.415267   \n",
      "8  0.851084 -0.392048  ... -0.073425 -0.268092 -0.204233  1.011592  0.373205   \n",
      "9  0.069539 -0.736727  ... -0.246914 -0.633753 -0.120794 -0.385050 -0.069733   \n",
      "\n",
      "        V26       V27       V28  Amount  Class  \n",
      "0 -0.189115  0.133558 -0.021053  149.62      0  \n",
      "1  0.125895 -0.008983  0.014724    2.69      0  \n",
      "2 -0.139097 -0.055353 -0.059752  378.66      0  \n",
      "3 -0.221929  0.062723  0.061458  123.50      0  \n",
      "4  0.502292  0.219422  0.215153   69.99      0  \n",
      "5  0.105915  0.253844  0.081080    3.67      0  \n",
      "6 -0.257237  0.034507  0.005168    4.99      0  \n",
      "7 -0.051634 -1.206921 -1.085339   40.80      0  \n",
      "8 -0.384157  0.011747  0.142404   93.20      0  \n",
      "9  0.094199  0.246219  0.083076    3.68      0  \n",
      "\n",
      "[10 rows x 31 columns]\n"
     ]
    }
   ],
   "source": [
    "# Display a sample of 10 rows from the dataset\n",
    "print(data.head(10))"
   ]
  },
  {
   "cell_type": "code",
   "execution_count": 5,
   "id": "febfff22",
   "metadata": {
    "execution": {
     "iopub.execute_input": "2023-10-12T13:54:20.679446Z",
     "iopub.status.busy": "2023-10-12T13:54:20.678677Z",
     "iopub.status.idle": "2023-10-12T13:54:20.683378Z",
     "shell.execute_reply": "2023-10-12T13:54:20.682364Z"
    },
    "id": "oX2WosVu2Zlk",
    "outputId": "50c7bb95-bd8a-4580-8eb5-458115930b07",
    "papermill": {
     "duration": 0.01392,
     "end_time": "2023-10-12T13:54:20.685368",
     "exception": false,
     "start_time": "2023-10-12T13:54:20.671448",
     "status": "completed"
    },
    "tags": []
   },
   "outputs": [
    {
     "name": "stdout",
     "output_type": "stream",
     "text": [
      "Data shape: (284807, 31)\n"
     ]
    }
   ],
   "source": [
    "# Check the shape of the dataset\n",
    "print(\"Data shape:\", data.shape)"
   ]
  },
  {
   "cell_type": "code",
   "execution_count": 6,
   "id": "b5e6f16d",
   "metadata": {
    "execution": {
     "iopub.execute_input": "2023-10-12T13:54:20.699421Z",
     "iopub.status.busy": "2023-10-12T13:54:20.699055Z",
     "iopub.status.idle": "2023-10-12T13:54:20.738715Z",
     "shell.execute_reply": "2023-10-12T13:54:20.737534Z"
    },
    "id": "flgI2EwE2nkZ",
    "outputId": "472efe93-819d-4a56-d564-df8bae0cfbe6",
    "papermill": {
     "duration": 0.049493,
     "end_time": "2023-10-12T13:54:20.741083",
     "exception": false,
     "start_time": "2023-10-12T13:54:20.691590",
     "status": "completed"
    },
    "tags": []
   },
   "outputs": [
    {
     "name": "stdout",
     "output_type": "stream",
     "text": [
      "<class 'pandas.core.frame.DataFrame'>\n",
      "RangeIndex: 284807 entries, 0 to 284806\n",
      "Data columns (total 31 columns):\n",
      " #   Column  Non-Null Count   Dtype  \n",
      "---  ------  --------------   -----  \n",
      " 0   Time    284807 non-null  float64\n",
      " 1   V1      284807 non-null  float64\n",
      " 2   V2      284807 non-null  float64\n",
      " 3   V3      284807 non-null  float64\n",
      " 4   V4      284807 non-null  float64\n",
      " 5   V5      284807 non-null  float64\n",
      " 6   V6      284807 non-null  float64\n",
      " 7   V7      284807 non-null  float64\n",
      " 8   V8      284807 non-null  float64\n",
      " 9   V9      284807 non-null  float64\n",
      " 10  V10     284807 non-null  float64\n",
      " 11  V11     284807 non-null  float64\n",
      " 12  V12     284807 non-null  float64\n",
      " 13  V13     284807 non-null  float64\n",
      " 14  V14     284807 non-null  float64\n",
      " 15  V15     284807 non-null  float64\n",
      " 16  V16     284807 non-null  float64\n",
      " 17  V17     284807 non-null  float64\n",
      " 18  V18     284807 non-null  float64\n",
      " 19  V19     284807 non-null  float64\n",
      " 20  V20     284807 non-null  float64\n",
      " 21  V21     284807 non-null  float64\n",
      " 22  V22     284807 non-null  float64\n",
      " 23  V23     284807 non-null  float64\n",
      " 24  V24     284807 non-null  float64\n",
      " 25  V25     284807 non-null  float64\n",
      " 26  V26     284807 non-null  float64\n",
      " 27  V27     284807 non-null  float64\n",
      " 28  V28     284807 non-null  float64\n",
      " 29  Amount  284807 non-null  float64\n",
      " 30  Class   284807 non-null  int64  \n",
      "dtypes: float64(30), int64(1)\n",
      "memory usage: 67.4 MB\n",
      "Missing value percentages:\n",
      "Time      0.0\n",
      "V1        0.0\n",
      "V2        0.0\n",
      "V3        0.0\n",
      "V4        0.0\n",
      "V5        0.0\n",
      "V6        0.0\n",
      "V7        0.0\n",
      "V8        0.0\n",
      "V9        0.0\n",
      "V10       0.0\n",
      "V11       0.0\n",
      "V12       0.0\n",
      "V13       0.0\n",
      "V14       0.0\n",
      "V15       0.0\n",
      "V16       0.0\n",
      "V17       0.0\n",
      "V18       0.0\n",
      "V19       0.0\n",
      "V20       0.0\n",
      "V21       0.0\n",
      "V22       0.0\n",
      "V23       0.0\n",
      "V24       0.0\n",
      "V25       0.0\n",
      "V26       0.0\n",
      "V27       0.0\n",
      "V28       0.0\n",
      "Amount    0.0\n",
      "Class     0.0\n",
      "dtype: float64\n"
     ]
    }
   ],
   "source": [
    "# Check for missing values and calculate their percentages\n",
    "data_info = data.info()\n",
    "missing_percentage = (data.isnull().sum() / len(data)) * 100\n",
    "print(\"Missing value percentages:\")\n",
    "print(missing_percentage)"
   ]
  },
  {
   "cell_type": "code",
   "execution_count": 7,
   "id": "652f8649",
   "metadata": {
    "execution": {
     "iopub.execute_input": "2023-10-12T13:54:20.755475Z",
     "iopub.status.busy": "2023-10-12T13:54:20.755120Z",
     "iopub.status.idle": "2023-10-12T13:54:21.681768Z",
     "shell.execute_reply": "2023-10-12T13:54:21.680460Z"
    },
    "id": "uOWR07Yp2rjD",
    "outputId": "8fef8c8e-3eb7-400c-ade5-365b294106bd",
    "papermill": {
     "duration": 0.936194,
     "end_time": "2023-10-12T13:54:21.683806",
     "exception": false,
     "start_time": "2023-10-12T13:54:20.747612",
     "status": "completed"
    },
    "tags": []
   },
   "outputs": [
    {
     "name": "stdout",
     "output_type": "stream",
     "text": [
      "Number of duplicated rows: 1081\n"
     ]
    }
   ],
   "source": [
    "# Check for and count duplicated rows\n",
    "duplicated_count = data.duplicated().sum()\n",
    "print(\"Number of duplicated rows:\", duplicated_count)"
   ]
  },
  {
   "cell_type": "code",
   "execution_count": 8,
   "id": "07e015c1",
   "metadata": {
    "execution": {
     "iopub.execute_input": "2023-10-12T13:54:21.698456Z",
     "iopub.status.busy": "2023-10-12T13:54:21.697716Z",
     "iopub.status.idle": "2023-10-12T13:54:22.567550Z",
     "shell.execute_reply": "2023-10-12T13:54:22.566685Z"
    },
    "id": "UDROMnfR20-L",
    "papermill": {
     "duration": 0.879653,
     "end_time": "2023-10-12T13:54:22.569905",
     "exception": false,
     "start_time": "2023-10-12T13:54:21.690252",
     "status": "completed"
    },
    "tags": []
   },
   "outputs": [],
   "source": [
    "# remove duplicates\n",
    "data = data.drop_duplicates(keep='first')"
   ]
  },
  {
   "cell_type": "code",
   "execution_count": 9,
   "id": "c0426d98",
   "metadata": {
    "execution": {
     "iopub.execute_input": "2023-10-12T13:54:22.584134Z",
     "iopub.status.busy": "2023-10-12T13:54:22.583760Z",
     "iopub.status.idle": "2023-10-12T13:54:23.391880Z",
     "shell.execute_reply": "2023-10-12T13:54:23.391166Z"
    },
    "id": "yPrLr22H2_vr",
    "outputId": "6755b7bb-9d1c-410a-d88d-886d1987fdb6",
    "papermill": {
     "duration": 0.817229,
     "end_time": "2023-10-12T13:54:23.393660",
     "exception": false,
     "start_time": "2023-10-12T13:54:22.576431",
     "status": "completed"
    },
    "tags": []
   },
   "outputs": [
    {
     "data": {
      "text/plain": [
       "0"
      ]
     },
     "execution_count": 9,
     "metadata": {},
     "output_type": "execute_result"
    }
   ],
   "source": [
    "data.duplicated().sum()"
   ]
  },
  {
   "cell_type": "code",
   "execution_count": 10,
   "id": "9915251b",
   "metadata": {
    "execution": {
     "iopub.execute_input": "2023-10-12T13:54:23.408269Z",
     "iopub.status.busy": "2023-10-12T13:54:23.407600Z",
     "iopub.status.idle": "2023-10-12T13:54:23.416525Z",
     "shell.execute_reply": "2023-10-12T13:54:23.415368Z"
    },
    "id": "-sTxMuFF3HfN",
    "outputId": "723f5476-72e9-4720-983d-8dd7cd3fb1a1",
    "papermill": {
     "duration": 0.018728,
     "end_time": "2023-10-12T13:54:23.418771",
     "exception": false,
     "start_time": "2023-10-12T13:54:23.400043",
     "status": "completed"
    },
    "tags": []
   },
   "outputs": [
    {
     "name": "stdout",
     "output_type": "stream",
     "text": [
      "Class\n",
      "0    283253\n",
      "1       473\n",
      "Name: count, dtype: int64\n"
     ]
    }
   ],
   "source": [
    "# Calculate and visualize the class distribution\n",
    "class_counts = data['Class'].value_counts()\n",
    "print(class_counts)"
   ]
  },
  {
   "cell_type": "code",
   "execution_count": 11,
   "id": "3521d345",
   "metadata": {
    "execution": {
     "iopub.execute_input": "2023-10-12T13:54:23.435611Z",
     "iopub.status.busy": "2023-10-12T13:54:23.435259Z",
     "iopub.status.idle": "2023-10-12T13:54:23.594570Z",
     "shell.execute_reply": "2023-10-12T13:54:23.593200Z"
    },
    "id": "uOPLUcXP3ML-",
    "outputId": "86ad89a8-43c3-4e2a-da8e-9dab50fd2d93",
    "papermill": {
     "duration": 0.170367,
     "end_time": "2023-10-12T13:54:23.597615",
     "exception": false,
     "start_time": "2023-10-12T13:54:23.427248",
     "status": "completed"
    },
    "tags": []
   },
   "outputs": [
    {
     "data": {
      "text/plain": [
       "(-1.099999844129798,\n",
       " 1.0999998625016396,\n",
       " -1.0999998543277532,\n",
       " 1.0999998722606827)"
      ]
     },
     "execution_count": 11,
     "metadata": {},
     "output_type": "execute_result"
    },
    {
     "data": {
      "image/png": "[encoded data removed]",
      "text/plain": [
       "<Figure size 1000x500 with 1 Axes>"
      ]
     },
     "metadata": {},
     "output_type": "display_data"
    }
   ],
   "source": [
    "plt.figure(figsize=(10, 5))\n",
    "plt.subplot(1, 2, 1)\n",
    "colors = ['#ff9999', '#66b3ff']\n",
    "plt.pie(class_counts, labels=class_counts.index, autopct='%1.1f%%', startangle=140, colors=colors)\n",
    "plt.title('Class Distribution')\n",
    "plt.axis('equal')"
   ]
  },
  {
   "cell_type": "code",
   "execution_count": 12,
   "id": "7af8f080",
   "metadata": {
    "execution": {
     "iopub.execute_input": "2023-10-12T13:54:23.626030Z",
     "iopub.status.busy": "2023-10-12T13:54:23.625515Z",
     "iopub.status.idle": "2023-10-12T13:54:23.853406Z",
     "shell.execute_reply": "2023-10-12T13:54:23.852438Z"
    },
    "id": "1ey8Ob6s3QDm",
    "outputId": "0b88825f-10fa-43f8-8066-948ba9019d36",
    "papermill": {
     "duration": 0.244921,
     "end_time": "2023-10-12T13:54:23.855647",
     "exception": false,
     "start_time": "2023-10-12T13:54:23.610726",
     "status": "completed"
    },
    "tags": []
   },
   "outputs": [
    {
     "data": {
      "image/png": "[encoded data removed]",
      "text/plain": [
       "<Figure size 640x480 with 1 Axes>"
      ]
     },
     "metadata": {},
     "output_type": "display_data"
    }
   ],
   "source": [
    "# Create a bar chart for class counts\n",
    "plt.subplot(1, 2, 2)\n",
    "sns.countplot(data=data, x='Class', palette=colors)\n",
    "plt.title('Class Distribution (Count)')\n",
    "plt.xlabel('Class')\n",
    "plt.ylabel('Count')\n",
    "plt.show()\n"
   ]
  },
  {
   "cell_type": "markdown",
   "id": "4adc3a59",
   "metadata": {
    "papermill": {
     "duration": 0.007121,
     "end_time": "2023-10-12T13:54:23.870009",
     "exception": false,
     "start_time": "2023-10-12T13:54:23.862888",
     "status": "completed"
    },
    "tags": []
   },
   "source": [
    "### PREPROCESSING"
   ]
  },
  {
   "cell_type": "code",
   "execution_count": 13,
   "id": "a4262504",
   "metadata": {
    "execution": {
     "iopub.execute_input": "2023-10-12T13:54:23.885928Z",
     "iopub.status.busy": "2023-10-12T13:54:23.885555Z",
     "iopub.status.idle": "2023-10-12T13:54:23.924511Z",
     "shell.execute_reply": "2023-10-12T13:54:23.923443Z"
    },
    "id": "notRxl4o3Vzq",
    "papermill": {
     "duration": 0.049634,
     "end_time": "2023-10-12T13:54:23.926743",
     "exception": false,
     "start_time": "2023-10-12T13:54:23.877109",
     "status": "completed"
    },
    "tags": []
   },
   "outputs": [],
   "source": [
    "# Separate legitimate and fraudulent transactions\n",
    "legitimate = data[data.Class == 0]\n",
    "fraudulent = data[data.Class == 1]"
   ]
  },
  {
   "cell_type": "code",
   "execution_count": 14,
   "id": "86d008b6",
   "metadata": {
    "execution": {
     "iopub.execute_input": "2023-10-12T13:54:23.943053Z",
     "iopub.status.busy": "2023-10-12T13:54:23.942704Z",
     "iopub.status.idle": "2023-10-12T13:54:24.255673Z",
     "shell.execute_reply": "2023-10-12T13:54:24.254875Z"
    },
    "id": "jav-Sj-W3a3I",
    "outputId": "925e479b-f128-410a-8dea-f72e1849754d",
    "papermill": {
     "duration": 0.323396,
     "end_time": "2023-10-12T13:54:24.257694",
     "exception": false,
     "start_time": "2023-10-12T13:54:23.934298",
     "status": "completed"
    },
    "tags": []
   },
   "outputs": [
    {
     "data": {
      "image/png": "[encoded data removed]",
      "text/plain": [
       "<Figure size 1200x600 with 1 Axes>"
      ]
     },
     "metadata": {},
     "output_type": "display_data"
    }
   ],
   "source": [
    "# Calculate and visualize the mean values by class\n",
    "class_means = data.groupby('Class').mean().T\n",
    "\n",
    "plt.figure(figsize=(12, 6))\n",
    "sns.barplot(data=class_means, palette='viridis')\n",
    "plt.title('Mean Values by Class')\n",
    "plt.xlabel('Columns')\n",
    "plt.ylabel('Mean Value')\n",
    "plt.xticks(rotation=90)\n",
    "plt.show()"
   ]
  },
  {
   "cell_type": "code",
   "execution_count": 15,
   "id": "b31e4bb6",
   "metadata": {
    "execution": {
     "iopub.execute_input": "2023-10-12T13:54:24.274495Z",
     "iopub.status.busy": "2023-10-12T13:54:24.273818Z",
     "iopub.status.idle": "2023-10-12T13:54:24.286751Z",
     "shell.execute_reply": "2023-10-12T13:54:24.285821Z"
    },
    "id": "TBiTnQ543dvm",
    "papermill": {
     "duration": 0.023906,
     "end_time": "2023-10-12T13:54:24.288955",
     "exception": false,
     "start_time": "2023-10-12T13:54:24.265049",
     "status": "completed"
    },
    "tags": []
   },
   "outputs": [],
   "source": [
    "# Sample legitimate transactions to balance the dataset\n",
    "legitimate_sample = legitimate.sample(n=473)"
   ]
  },
  {
   "cell_type": "code",
   "execution_count": 16,
   "id": "0890c286",
   "metadata": {
    "execution": {
     "iopub.execute_input": "2023-10-12T13:54:24.306053Z",
     "iopub.status.busy": "2023-10-12T13:54:24.305669Z",
     "iopub.status.idle": "2023-10-12T13:54:24.310544Z",
     "shell.execute_reply": "2023-10-12T13:54:24.309481Z"
    },
    "id": "1aVYEhYi3lGE",
    "papermill": {
     "duration": 0.015819,
     "end_time": "2023-10-12T13:54:24.312516",
     "exception": false,
     "start_time": "2023-10-12T13:54:24.296697",
     "status": "completed"
    },
    "tags": []
   },
   "outputs": [],
   "source": [
    "# Concatenate legitimate_sample and fraudulent transactions to create a new dataset\n",
    "new_data = pd.concat([legitimate_sample, fraudulent], axis=0)"
   ]
  },
  {
   "cell_type": "code",
   "execution_count": 17,
   "id": "c541aba6",
   "metadata": {
    "execution": {
     "iopub.execute_input": "2023-10-12T13:54:24.329704Z",
     "iopub.status.busy": "2023-10-12T13:54:24.329131Z",
     "iopub.status.idle": "2023-10-12T13:54:24.334798Z",
     "shell.execute_reply": "2023-10-12T13:54:24.333889Z"
    },
    "id": "kM4mwFr_3oDT",
    "outputId": "973eed2c-c81b-4033-f928-359cd592a1e5",
    "papermill": {
     "duration": 0.016349,
     "end_time": "2023-10-12T13:54:24.336619",
     "exception": false,
     "start_time": "2023-10-12T13:54:24.320270",
     "status": "completed"
    },
    "tags": []
   },
   "outputs": [
    {
     "name": "stdout",
     "output_type": "stream",
     "text": [
      "Class\n",
      "0    473\n",
      "1    473\n",
      "Name: count, dtype: int64\n"
     ]
    }
   ],
   "source": [
    "# Calculate and visualize the class distribution of the new dataset\n",
    "class_counts = new_data['Class'].value_counts()\n",
    "print(class_counts)"
   ]
  },
  {
   "cell_type": "code",
   "execution_count": 18,
   "id": "ab058eaf",
   "metadata": {
    "execution": {
     "iopub.execute_input": "2023-10-12T13:54:24.353709Z",
     "iopub.status.busy": "2023-10-12T13:54:24.353339Z",
     "iopub.status.idle": "2023-10-12T13:54:24.467235Z",
     "shell.execute_reply": "2023-10-12T13:54:24.466059Z"
    },
    "id": "pFKU-Oqf3qMr",
    "outputId": "06392890-3aaa-49e7-99ae-529b01dc794d",
    "papermill": {
     "duration": 0.12618,
     "end_time": "2023-10-12T13:54:24.470362",
     "exception": false,
     "start_time": "2023-10-12T13:54:24.344182",
     "status": "completed"
    },
    "tags": []
   },
   "outputs": [
    {
     "data": {
      "text/plain": [
       "(-1.099998146164224,\n",
       " 1.0999997564610315,\n",
       " -1.099998146164224,\n",
       " 1.0999997564610318)"
      ]
     },
     "execution_count": 18,
     "metadata": {},
     "output_type": "execute_result"
    },
    {
     "data": {
      "image/png": "[encoded data removed]",
      "text/plain": [
       "<Figure size 1000x500 with 1 Axes>"
      ]
     },
     "metadata": {},
     "output_type": "display_data"
    }
   ],
   "source": [
    "plt.figure(figsize=(10, 5))\n",
    "plt.subplot(1, 2, 1)\n",
    "plt.pie(class_counts, labels=class_counts.index, autopct='%1.1f%%', startangle=140, colors=colors)\n",
    "plt.title('Class Distribution (Balanced)')\n",
    "plt.axis('equal')"
   ]
  },
  {
   "cell_type": "code",
   "execution_count": 19,
   "id": "3a6f0f37",
   "metadata": {
    "execution": {
     "iopub.execute_input": "2023-10-12T13:54:24.503545Z",
     "iopub.status.busy": "2023-10-12T13:54:24.502161Z",
     "iopub.status.idle": "2023-10-12T13:54:24.648202Z",
     "shell.execute_reply": "2023-10-12T13:54:24.647043Z"
    },
    "id": "rOali6fy4OmO",
    "outputId": "b68fe62a-8ffd-4010-d74b-67fc1b7d9e38",
    "papermill": {
     "duration": 0.166292,
     "end_time": "2023-10-12T13:54:24.651776",
     "exception": false,
     "start_time": "2023-10-12T13:54:24.485484",
     "status": "completed"
    },
    "tags": []
   },
   "outputs": [
    {
     "data": {
      "image/png": "[encoded data removed]",
      "text/plain": [
       "<Figure size 640x480 with 1 Axes>"
      ]
     },
     "metadata": {},
     "output_type": "display_data"
    }
   ],
   "source": [
    "# Create a bar chart for class counts in the balanced dataset\n",
    "plt.subplot(1, 2, 2)\n",
    "sns.countplot(data=new_data, x='Class', palette=colors)\n",
    "plt.title('Class Distribution (Balanced - Count)')\n",
    "plt.xlabel('Class')\n",
    "plt.ylabel('Count')\n",
    "plt.show()\n"
   ]
  },
  {
   "cell_type": "code",
   "execution_count": 20,
   "id": "847d32f7",
   "metadata": {
    "execution": {
     "iopub.execute_input": "2023-10-12T13:54:24.679626Z",
     "iopub.status.busy": "2023-10-12T13:54:24.678575Z",
     "iopub.status.idle": "2023-10-12T13:54:24.806401Z",
     "shell.execute_reply": "2023-10-12T13:54:24.805389Z"
    },
    "id": "iSX9R9rc4W0F",
    "outputId": "df9e2638-23ba-4c50-9ce5-4510a008be5b",
    "papermill": {
     "duration": 0.140182,
     "end_time": "2023-10-12T13:54:24.808589",
     "exception": false,
     "start_time": "2023-10-12T13:54:24.668407",
     "status": "completed"
    },
    "tags": []
   },
   "outputs": [
    {
     "data": {
      "text/html": [
       "<div>\n",
       "<style scoped>\n",
       "    .dataframe tbody tr th:only-of-type {\n",
       "        vertical-align: middle;\n",
       "    }\n",
       "\n",
       "    .dataframe tbody tr th {\n",
       "        vertical-align: top;\n",
       "    }\n",
       "\n",
       "    .dataframe thead tr th {\n",
       "        text-align: left;\n",
       "    }\n",
       "\n",
       "    .dataframe thead tr:last-of-type th {\n",
       "        text-align: right;\n",
       "    }\n",
       "</style>\n",
       "<table border=\"1\" class=\"dataframe\">\n",
       "  <thead>\n",
       "    <tr>\n",
       "      <th></th>\n",
       "      <th colspan=\"8\" halign=\"left\">Time</th>\n",
       "      <th colspan=\"2\" halign=\"left\">V1</th>\n",
       "      <th>...</th>\n",
       "      <th colspan=\"2\" halign=\"left\">V28</th>\n",
       "      <th colspan=\"8\" halign=\"left\">Amount</th>\n",
       "    </tr>\n",
       "    <tr>\n",
       "      <th></th>\n",
       "      <th>count</th>\n",
       "      <th>mean</th>\n",
       "      <th>std</th>\n",
       "      <th>min</th>\n",
       "      <th>25%</th>\n",
       "      <th>50%</th>\n",
       "      <th>75%</th>\n",
       "      <th>max</th>\n",
       "      <th>count</th>\n",
       "      <th>mean</th>\n",
       "      <th>...</th>\n",
       "      <th>75%</th>\n",
       "      <th>max</th>\n",
       "      <th>count</th>\n",
       "      <th>mean</th>\n",
       "      <th>std</th>\n",
       "      <th>min</th>\n",
       "      <th>25%</th>\n",
       "      <th>50%</th>\n",
       "      <th>75%</th>\n",
       "      <th>max</th>\n",
       "    </tr>\n",
       "    <tr>\n",
       "      <th>Class</th>\n",
       "      <th></th>\n",
       "      <th></th>\n",
       "      <th></th>\n",
       "      <th></th>\n",
       "      <th></th>\n",
       "      <th></th>\n",
       "      <th></th>\n",
       "      <th></th>\n",
       "      <th></th>\n",
       "      <th></th>\n",
       "      <th></th>\n",
       "      <th></th>\n",
       "      <th></th>\n",
       "      <th></th>\n",
       "      <th></th>\n",
       "      <th></th>\n",
       "      <th></th>\n",
       "      <th></th>\n",
       "      <th></th>\n",
       "      <th></th>\n",
       "      <th></th>\n",
       "    </tr>\n",
       "  </thead>\n",
       "  <tbody>\n",
       "    <tr>\n",
       "      <th>0</th>\n",
       "      <td>473.0</td>\n",
       "      <td>93543.152220</td>\n",
       "      <td>47915.252294</td>\n",
       "      <td>643.0</td>\n",
       "      <td>54381.0</td>\n",
       "      <td>83033.0</td>\n",
       "      <td>137371.0</td>\n",
       "      <td>172581.0</td>\n",
       "      <td>473.0</td>\n",
       "      <td>0.081481</td>\n",
       "      <td>...</td>\n",
       "      <td>0.080105</td>\n",
       "      <td>3.522256</td>\n",
       "      <td>473.0</td>\n",
       "      <td>77.680254</td>\n",
       "      <td>167.667314</td>\n",
       "      <td>0.0</td>\n",
       "      <td>6.02</td>\n",
       "      <td>24.99</td>\n",
       "      <td>83.63</td>\n",
       "      <td>1753.91</td>\n",
       "    </tr>\n",
       "    <tr>\n",
       "      <th>1</th>\n",
       "      <td>473.0</td>\n",
       "      <td>80450.513742</td>\n",
       "      <td>48636.179973</td>\n",
       "      <td>406.0</td>\n",
       "      <td>41203.0</td>\n",
       "      <td>73408.0</td>\n",
       "      <td>129095.0</td>\n",
       "      <td>170348.0</td>\n",
       "      <td>473.0</td>\n",
       "      <td>-4.498280</td>\n",
       "      <td>...</td>\n",
       "      <td>0.372393</td>\n",
       "      <td>1.779364</td>\n",
       "      <td>473.0</td>\n",
       "      <td>123.871860</td>\n",
       "      <td>260.211041</td>\n",
       "      <td>0.0</td>\n",
       "      <td>1.00</td>\n",
       "      <td>9.82</td>\n",
       "      <td>105.89</td>\n",
       "      <td>2125.87</td>\n",
       "    </tr>\n",
       "  </tbody>\n",
       "</table>\n",
       "<p>2 rows × 240 columns</p>\n",
       "</div>"
      ],
      "text/plain": [
       "        Time                                                                 \\\n",
       "       count          mean           std    min      25%      50%       75%   \n",
       "Class                                                                         \n",
       "0      473.0  93543.152220  47915.252294  643.0  54381.0  83033.0  137371.0   \n",
       "1      473.0  80450.513742  48636.179973  406.0  41203.0  73408.0  129095.0   \n",
       "\n",
       "                    V1            ...       V28           Amount              \\\n",
       "            max  count      mean  ...       75%       max  count        mean   \n",
       "Class                             ...                                          \n",
       "0      172581.0  473.0  0.081481  ...  0.080105  3.522256  473.0   77.680254   \n",
       "1      170348.0  473.0 -4.498280  ...  0.372393  1.779364  473.0  123.871860   \n",
       "\n",
       "                                                      \n",
       "              std  min   25%    50%     75%      max  \n",
       "Class                                                 \n",
       "0      167.667314  0.0  6.02  24.99   83.63  1753.91  \n",
       "1      260.211041  0.0  1.00   9.82  105.89  2125.87  \n",
       "\n",
       "[2 rows x 240 columns]"
      ]
     },
     "execution_count": 20,
     "metadata": {},
     "output_type": "execute_result"
    }
   ],
   "source": [
    "# Display statistics by class for the new dataset\n",
    "new_data.groupby('Class').describe()\n"
   ]
  },
  {
   "cell_type": "markdown",
   "id": "a147c85d",
   "metadata": {
    "papermill": {
     "duration": 0.008337,
     "end_time": "2023-10-12T13:54:24.825645",
     "exception": false,
     "start_time": "2023-10-12T13:54:24.817308",
     "status": "completed"
    },
    "tags": []
   },
   "source": [
    "### MODELING"
   ]
  },
  {
   "cell_type": "code",
   "execution_count": 21,
   "id": "5b011cfe",
   "metadata": {
    "execution": {
     "iopub.execute_input": "2023-10-12T13:54:24.844741Z",
     "iopub.status.busy": "2023-10-12T13:54:24.844408Z",
     "iopub.status.idle": "2023-10-12T13:54:24.849561Z",
     "shell.execute_reply": "2023-10-12T13:54:24.848603Z"
    },
    "id": "JMI6c7gA4awL",
    "papermill": {
     "duration": 0.017314,
     "end_time": "2023-10-12T13:54:24.851576",
     "exception": false,
     "start_time": "2023-10-12T13:54:24.834262",
     "status": "completed"
    },
    "tags": []
   },
   "outputs": [],
   "source": [
    "# Prepare data for modeling\n",
    "X = new_data.drop(columns=['Class'])\n",
    "Y = new_data['Class']\n"
   ]
  },
  {
   "cell_type": "code",
   "execution_count": 22,
   "id": "39204ef2",
   "metadata": {
    "execution": {
     "iopub.execute_input": "2023-10-12T13:54:24.870570Z",
     "iopub.status.busy": "2023-10-12T13:54:24.869865Z",
     "iopub.status.idle": "2023-10-12T13:54:24.877542Z",
     "shell.execute_reply": "2023-10-12T13:54:24.876625Z"
    },
    "id": "XJYH345C4eco",
    "papermill": {
     "duration": 0.019466,
     "end_time": "2023-10-12T13:54:24.879663",
     "exception": false,
     "start_time": "2023-10-12T13:54:24.860197",
     "status": "completed"
    },
    "tags": []
   },
   "outputs": [],
   "source": [
    "# Split the data into training and test sets\n",
    "X_train, X_test, Y_train, Y_test = train_test_split(X, Y, test_size=0.2, stratify=Y, random_state=2)\n"
   ]
  },
  {
   "cell_type": "code",
   "execution_count": 23,
   "id": "3f4c7c5a",
   "metadata": {
    "execution": {
     "iopub.execute_input": "2023-10-12T13:54:24.899224Z",
     "iopub.status.busy": "2023-10-12T13:54:24.898607Z",
     "iopub.status.idle": "2023-10-12T13:54:24.952902Z",
     "shell.execute_reply": "2023-10-12T13:54:24.951824Z"
    },
    "id": "DBLegcz24hUW",
    "outputId": "36008945-268b-4706-e559-884e21da5175",
    "papermill": {
     "duration": 0.067125,
     "end_time": "2023-10-12T13:54:24.955662",
     "exception": false,
     "start_time": "2023-10-12T13:54:24.888537",
     "status": "completed"
    },
    "tags": []
   },
   "outputs": [
    {
     "data": {
      "text/html": [
       "<style>#sk-container-id-1 {color: black;background-color: white;}#sk-container-id-1 pre{padding: 0;}#sk-container-id-1 div.sk-toggleable {background-color: white;}#sk-container-id-1 label.sk-toggleable__label {cursor: pointer;display: block;width: 100%;margin-bottom: 0;padding: 0.3em;box-sizing: border-box;text-align: center;}#sk-container-id-1 label.sk-toggleable__label-arrow:before {content: \"▸\";float: left;margin-right: 0.25em;color: #696969;}#sk-container-id-1 label.sk-toggleable__label-arrow:hover:before {color: black;}#sk-container-id-1 div.sk-estimator:hover label.sk-toggleable__label-arrow:before {color: black;}#sk-container-id-1 div.sk-toggleable__content {max-height: 0;max-width: 0;overflow: hidden;text-align: left;background-color: #f0f8ff;}#sk-container-id-1 div.sk-toggleable__content pre {margin: 0.2em;color: black;border-radius: 0.25em;background-color: #f0f8ff;}#sk-container-id-1 input.sk-toggleable__control:checked~div.sk-toggleable__content {max-height: 200px;max-width: 100%;overflow: auto;}#sk-container-id-1 input.sk-toggleable__control:checked~label.sk-toggleable__label-arrow:before {content: \"▾\";}#sk-container-id-1 div.sk-estimator input.sk-toggleable__control:checked~label.sk-toggleable__label {background-color: #d4ebff;}#sk-container-id-1 div.sk-label input.sk-toggleable__control:checked~label.sk-toggleable__label {background-color: #d4ebff;}#sk-container-id-1 input.sk-hidden--visually {border: 0;clip: rect(1px 1px 1px 1px);clip: rect(1px, 1px, 1px, 1px);height: 1px;margin: -1px;overflow: hidden;padding: 0;position: absolute;width: 1px;}#sk-container-id-1 div.sk-estimator {font-family: monospace;background-color: #f0f8ff;border: 1px dotted black;border-radius: 0.25em;box-sizing: border-box;margin-bottom: 0.5em;}#sk-container-id-1 div.sk-estimator:hover {background-color: #d4ebff;}#sk-container-id-1 div.sk-parallel-item::after {content: \"\";width: 100%;border-bottom: 1px solid gray;flex-grow: 1;}#sk-container-id-1 div.sk-label:hover label.sk-toggleable__label {background-color: #d4ebff;}#sk-container-id-1 div.sk-serial::before {content: \"\";position: absolute;border-left: 1px solid gray;box-sizing: border-box;top: 0;bottom: 0;left: 50%;z-index: 0;}#sk-container-id-1 div.sk-serial {display: flex;flex-direction: column;align-items: center;background-color: white;padding-right: 0.2em;padding-left: 0.2em;position: relative;}#sk-container-id-1 div.sk-item {position: relative;z-index: 1;}#sk-container-id-1 div.sk-parallel {display: flex;align-items: stretch;justify-content: center;background-color: white;position: relative;}#sk-container-id-1 div.sk-item::before, #sk-container-id-1 div.sk-parallel-item::before {content: \"\";position: absolute;border-left: 1px solid gray;box-sizing: border-box;top: 0;bottom: 0;left: 50%;z-index: -1;}#sk-container-id-1 div.sk-parallel-item {display: flex;flex-direction: column;z-index: 1;position: relative;background-color: white;}#sk-container-id-1 div.sk-parallel-item:first-child::after {align-self: flex-end;width: 50%;}#sk-container-id-1 div.sk-parallel-item:last-child::after {align-self: flex-start;width: 50%;}#sk-container-id-1 div.sk-parallel-item:only-child::after {width: 0;}#sk-container-id-1 div.sk-dashed-wrapped {border: 1px dashed gray;margin: 0 0.4em 0.5em 0.4em;box-sizing: border-box;padding-bottom: 0.4em;background-color: white;}#sk-container-id-1 div.sk-label label {font-family: monospace;font-weight: bold;display: inline-block;line-height: 1.2em;}#sk-container-id-1 div.sk-label-container {text-align: center;}#sk-container-id-1 div.sk-container {/* jupyter's `normalize.less` sets `[hidden] { display: none; }` but bootstrap.min.css set `[hidden] { display: none !important; }` so we also need the `!important` here to be able to override the default hidden behavior on the sphinx rendered scikit-learn.org. See: https://github.com/scikit-learn/scikit-learn/issues/21755 */display: inline-block !important;position: relative;}#sk-container-id-1 div.sk-text-repr-fallback {display: none;}</style><div id=\"sk-container-id-1\" class=\"sk-top-container\"><div class=\"sk-text-repr-fallback\"><pre>LogisticRegression()</pre><b>In a Jupyter environment, please rerun this cell to show the HTML representation or trust the notebook. <br />On GitHub, the HTML representation is unable to render, please try loading this page with nbviewer.org.</b></div><div class=\"sk-container\" hidden><div class=\"sk-item\"><div class=\"sk-estimator sk-toggleable\"><input class=\"sk-toggleable__control sk-hidden--visually\" id=\"sk-estimator-id-1\" type=\"checkbox\" checked><label for=\"sk-estimator-id-1\" class=\"sk-toggleable__label sk-toggleable__label-arrow\">LogisticRegression</label><div class=\"sk-toggleable__content\"><pre>LogisticRegression()</pre></div></div></div></div></div>"
      ],
      "text/plain": [
       "LogisticRegression()"
      ]
     },
     "execution_count": 23,
     "metadata": {},
     "output_type": "execute_result"
    }
   ],
   "source": [
    "# Create and train a Logistic Regression model\n",
    "model = LogisticRegression()\n",
    "model.fit(X_train, Y_train)\n"
   ]
  },
  {
   "cell_type": "code",
   "execution_count": 24,
   "id": "592d17b5",
   "metadata": {
    "execution": {
     "iopub.execute_input": "2023-10-12T13:54:24.991454Z",
     "iopub.status.busy": "2023-10-12T13:54:24.990912Z",
     "iopub.status.idle": "2023-10-12T13:54:25.005293Z",
     "shell.execute_reply": "2023-10-12T13:54:25.004209Z"
    },
    "id": "OaknZ0L54jeq",
    "outputId": "b2aaf9d4-a305-457f-bc35-34501415c4b8",
    "papermill": {
     "duration": 0.035712,
     "end_time": "2023-10-12T13:54:25.008196",
     "exception": false,
     "start_time": "2023-10-12T13:54:24.972484",
     "status": "completed"
    },
    "tags": []
   },
   "outputs": [
    {
     "name": "stdout",
     "output_type": "stream",
     "text": [
      "Accuracy on Training data: 0.9378306878306878\n"
     ]
    }
   ],
   "source": [
    "# Predict on training data and calculate accuracy\n",
    "X_train_prediction = model.predict(X_train)\n",
    "training_data_accuracy = accuracy_score(X_train_prediction, Y_train)\n",
    "print('Accuracy on Training data:', training_data_accuracy)"
   ]
  },
  {
   "cell_type": "code",
   "execution_count": 25,
   "id": "326b611f",
   "metadata": {
    "execution": {
     "iopub.execute_input": "2023-10-12T13:54:25.044304Z",
     "iopub.status.busy": "2023-10-12T13:54:25.043764Z",
     "iopub.status.idle": "2023-10-12T13:54:25.057712Z",
     "shell.execute_reply": "2023-10-12T13:54:25.056611Z"
    },
    "id": "i5EKtJRB4lwx",
    "outputId": "1882621c-11f7-4cf2-f8dd-a8106900baa3",
    "papermill": {
     "duration": 0.035698,
     "end_time": "2023-10-12T13:54:25.061073",
     "exception": false,
     "start_time": "2023-10-12T13:54:25.025375",
     "status": "completed"
    },
    "tags": []
   },
   "outputs": [
    {
     "name": "stdout",
     "output_type": "stream",
     "text": [
      "Accuracy on Test Data: 0.9368421052631579\n"
     ]
    }
   ],
   "source": [
    "# Predict on test data and calculate accuracy\n",
    "X_test_prediction = model.predict(X_test)\n",
    "test_data_accuracy = accuracy_score(X_test_prediction, Y_test)\n",
    "print('Accuracy on Test Data:', test_data_accuracy)"
   ]
  },
  {
   "cell_type": "markdown",
   "id": "3daf5017",
   "metadata": {
    "papermill": {
     "duration": 0.016508,
     "end_time": "2023-10-12T13:54:25.095412",
     "exception": false,
     "start_time": "2023-10-12T13:54:25.078904",
     "status": "completed"
    },
    "tags": []
   },
   "source": [
    "### RESULTS"
   ]
  },
  {
   "cell_type": "code",
   "execution_count": 26,
   "id": "98d3282a",
   "metadata": {
    "execution": {
     "iopub.execute_input": "2023-10-12T13:54:25.126343Z",
     "iopub.status.busy": "2023-10-12T13:54:25.125943Z",
     "iopub.status.idle": "2023-10-12T13:54:25.327368Z",
     "shell.execute_reply": "2023-10-12T13:54:25.326221Z"
    },
    "id": "Jss29QIb4pag",
    "outputId": "c04d782c-4c3b-4f76-f27d-6950ee525593",
    "papermill": {
     "duration": 0.217158,
     "end_time": "2023-10-12T13:54:25.329544",
     "exception": false,
     "start_time": "2023-10-12T13:54:25.112386",
     "status": "completed"
    },
    "tags": []
   },
   "outputs": [
    {
     "data": {
      "image/png": "[encoded data removed]",
      "text/plain": [
       "<Figure size 800x400 with 1 Axes>"
      ]
     },
     "metadata": {},
     "output_type": "display_data"
    }
   ],
   "source": [
    "# Create a bar chart to visualize the accuracy\n",
    "plt.figure(figsize=(8, 4))\n",
    "ax = sns.barplot(x=['Training Data', 'Test Data'], y=[training_data_accuracy, test_data_accuracy], palette='viridis')\n",
    "plt.title('Model Accuracy')\n",
    "plt.ylabel('Accuracy')\n",
    "plt.ylim(0, 1.0)  # Set the y-axis limit to ensure accuracy values fit within the plot\n",
    "\n",
    "# Add accuracy values as text annotations\n",
    "for p in ax.patches:\n",
    "    ax.annotate(f'{p.get_height():.2f}', (p.get_x() + p.get_width() / 2., p.get_height()),\n",
    "                ha='center', va='center', fontsize=12, color='black', xytext=(0, 10),\n",
    "                textcoords='offset points')\n",
    "\n",
    "plt.show()\n"
   ]
  },
  {
   "cell_type": "code",
   "execution_count": null,
   "id": "9fa16c4a",
   "metadata": {
    "id": "nx9rmZYW40At",
    "papermill": {
     "duration": 0.009035,
     "end_time": "2023-10-12T13:54:25.347883",
     "exception": false,
     "start_time": "2023-10-12T13:54:25.338848",
     "status": "completed"
    },
    "tags": []
   },
   "outputs": [],
   "source": []
  }
 ],
 "metadata": {
  "kernelspec": {
   "display_name": "Python 3",
   "language": "python",
   "name": "python3"
  },
  "language_info": {
   "codemirror_mode": {
    "name": "ipython",
    "version": 3
   },
   "file_extension": ".py",
   "mimetype": "text/x-python",
   "name": "python",
   "nbconvert_exporter": "python",
   "pygments_lexer": "ipython3",
   "version": "3.10.12"
  },
  "papermill": {
   "default_parameters": {},
   "duration": 15.540861,
   "end_time": "2023-10-12T13:54:25.976745",
   "environment_variables": {},
   "exception": null,
   "input_path": "__notebook__.ipynb",
   "output_path": "__notebook__.ipynb",
   "parameters": {},
   "start_time": "2023-10-12T13:54:10.435884",
   "version": "2.4.0"
  }
 },
 "nbformat": 4,
 "nbformat_minor": 5
}
